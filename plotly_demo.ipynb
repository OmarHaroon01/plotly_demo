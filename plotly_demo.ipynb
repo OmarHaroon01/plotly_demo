{
 "cells": [
  {
   "cell_type": "code",
   "execution_count": 20,
   "id": "a7acf5ce-638c-4e9c-a830-9738588d7333",
   "metadata": {},
   "outputs": [],
   "source": [
    "%%capture\n",
    "!pip install plotly yfinance pandas dash dash-bootstrap-components langchain langchain-cohere\n",
    "!pip install -U kaleido"
   ]
  },
  {
   "cell_type": "code",
   "execution_count": 2,
   "id": "7d56120e-d9e0-405d-84a2-5474cfa0e29c",
   "metadata": {},
   "outputs": [],
   "source": [
    "import random\n",
    "\n",
    "symbols = [\"AAPL\", \"MSFT\", \"GOOGL\", \"AMZN\", \"TSLA\", \"FB\", \"NVDA\", \"NFLX\", \"BABA\", \"INTC\"]\n",
    "\n",
    "symbol = random.choice(symbols)"
   ]
  },
  {
   "cell_type": "code",
   "execution_count": 3,
   "id": "ec8daef2-672c-4abb-a9d6-0b5fbd5b92a4",
   "metadata": {},
   "outputs": [
    {
     "data": {
      "text/plain": [
       "'NVDA'"
      ]
     },
     "execution_count": 3,
     "metadata": {},
     "output_type": "execute_result"
    }
   ],
   "source": [
    "symbol"
   ]
  },
  {
   "cell_type": "code",
   "execution_count": 4,
   "id": "071b2956-4232-4de8-9d48-f280df560c2b",
   "metadata": {},
   "outputs": [],
   "source": [
    "import yfinance as yf\n",
    "\n",
    "stock_details = yf.Ticker(symbol)"
   ]
  },
  {
   "cell_type": "code",
   "execution_count": 5,
   "id": "4ee8929a-704f-459d-913e-d2a8e51f37a1",
   "metadata": {},
   "outputs": [],
   "source": [
    "stock_history = stock_details.history(period=\"1y\")"
   ]
  },
  {
   "cell_type": "code",
   "execution_count": 22,
   "id": "3d4df420-f334-4289-84fc-d32ae2a5a8a6",
   "metadata": {},
   "outputs": [
    {
     "data": {
      "text/plain": [
       "[{'uuid': '649ffdab-c88a-39ab-a1da-52702b54aee4',\n",
       "  'title': 'Nvidia’s AI chips are cheaper to rent in China than US',\n",
       "  'publisher': 'Financial Times',\n",
       "  'link': 'https://finance.yahoo.com/news/nvidia-ai-chips-cheaper-rent-040020510.html',\n",
       "  'providerPublishTime': 1725595220,\n",
       "  'type': 'STORY',\n",
       "  'relatedTickers': ['NVDA']},\n",
       " {'uuid': 'd0c70b89-12a9-3a7d-a88c-53993270d64d',\n",
       "  'title': 'Dow Jones Futures: Market Breaking Support With Jobs Report Due; AI Giant Broadcom Tumbles',\n",
       "  'publisher': \"Investor's Business Daily\",\n",
       "  'link': 'https://finance.yahoo.com/m/d0c70b89-12a9-3a7d-a88c-53993270d64d/dow-jones-futures%3A-market.html',\n",
       "  'providerPublishTime': 1725589814,\n",
       "  'type': 'STORY',\n",
       "  'thumbnail': {'resolutions': [{'url': 'https://s.yimg.com/uu/api/res/1.2/1M5nFQE2K7ytEiHshYiI_w--~B/aD01NjU7dz0xMDAwO2FwcGlkPXl0YWNoeW9u/https://media.zenfs.com/en/ibd.com/912bce6dcb055a351bef5b1212da1763',\n",
       "     'width': 1000,\n",
       "     'height': 565,\n",
       "     'tag': 'original'},\n",
       "    {'url': 'https://s.yimg.com/uu/api/res/1.2/WwelI9xc70zDSVcGkqdmzA--~B/Zmk9ZmlsbDtoPTE0MDtweW9mZj0wO3c9MTQwO2FwcGlkPXl0YWNoeW9u/https://media.zenfs.com/en/ibd.com/912bce6dcb055a351bef5b1212da1763',\n",
       "     'width': 140,\n",
       "     'height': 140,\n",
       "     'tag': '140x140'}]},\n",
       "  'relatedTickers': ['TSLA', 'AVGO', '^GSPC', '^DJI', 'COMP', 'NVDA', 'GWRE']},\n",
       " {'uuid': '9b7145d5-1fa9-33d3-8123-55e69be37509',\n",
       "  'title': 'As Nvidia Stock Stumbles, Watch These 3 Hot AI-Adjacent Stocks Instead',\n",
       "  'publisher': \"Investor's Business Daily\",\n",
       "  'link': 'https://finance.yahoo.com/m/9b7145d5-1fa9-33d3-8123-55e69be37509/as-nvidia-stock-stumbles%2C.html',\n",
       "  'providerPublishTime': 1725575507,\n",
       "  'type': 'STORY',\n",
       "  'thumbnail': {'resolutions': [{'url': 'https://s.yimg.com/uu/api/res/1.2/5_VjaOYOKAACeVvlddOK5g--~B/aD01MTE7dz0xMDAwO2FwcGlkPXl0YWNoeW9u/https://media.zenfs.com/en/ibd.com/f91418204e28026aa1477652c9bf1e3d',\n",
       "     'width': 1000,\n",
       "     'height': 511,\n",
       "     'tag': 'original'},\n",
       "    {'url': 'https://s.yimg.com/uu/api/res/1.2/FtVvL3aeWMk32GVmQ2BD6Q--~B/Zmk9ZmlsbDtoPTE0MDtweW9mZj0wO3c9MTQwO2FwcGlkPXl0YWNoeW9u/https://media.zenfs.com/en/ibd.com/f91418204e28026aa1477652c9bf1e3d',\n",
       "     'width': 140,\n",
       "     'height': 140,\n",
       "     'tag': '140x140'}]},\n",
       "  'relatedTickers': ['NVDA', 'PLTR', 'TSLA']},\n",
       " {'uuid': 'd3361fc5-8a3f-38ff-a343-604e656040f4',\n",
       "  'title': 'NVIDIA Corporation (NVDA): Trending AI Stock on Latest Analyst Ratings and News',\n",
       "  'publisher': 'Insider Monkey',\n",
       "  'link': 'https://finance.yahoo.com/news/nvidia-corporation-nvda-trending-ai-221020321.html',\n",
       "  'providerPublishTime': 1725574220,\n",
       "  'type': 'STORY',\n",
       "  'thumbnail': {'resolutions': [{'url': 'https://s.yimg.com/uu/api/res/1.2/TTeuFy5Yw2gv7xivFvRsTg--~B/aD04MTY7dz0xNDU2O2FwcGlkPXl0YWNoeW9u/https://media.zenfs.com/en/insidermonkey.com/aa94e059977d3251b8b0630718e013fc',\n",
       "     'width': 1456,\n",
       "     'height': 816,\n",
       "     'tag': 'original'},\n",
       "    {'url': 'https://s.yimg.com/uu/api/res/1.2/TZeknJ_fhN5h4AGoB8ZDOg--~B/Zmk9ZmlsbDtoPTE0MDtweW9mZj0wO3c9MTQwO2FwcGlkPXl0YWNoeW9u/https://media.zenfs.com/en/insidermonkey.com/aa94e059977d3251b8b0630718e013fc',\n",
       "     'width': 140,\n",
       "     'height': 140,\n",
       "     'tag': '140x140'}]},\n",
       "  'relatedTickers': ['NVDA']},\n",
       " {'uuid': 'c9216c2c-7fac-3a2a-bff1-dee7fbb6382a',\n",
       "  'title': \"Nvidia, Microsoft Accused in New Lawsuit of Infringing on Texas Startup's DPU Patents\",\n",
       "  'publisher': 'MT Newswires',\n",
       "  'link': 'https://finance.yahoo.com/news/nvidia-microsoft-accused-lawsuit-infringing-213017287.html',\n",
       "  'providerPublishTime': 1725571817,\n",
       "  'type': 'STORY',\n",
       "  'relatedTickers': ['NVDA', 'MSFT']},\n",
       " {'uuid': 'd3ec9b17-cc3f-32f7-84e5-ede5495d964c',\n",
       "  'title': 'Indexes Mixed With Jobs Report On Tap; Tesla Soars As Two Tech Firms Diverge On Earnings (Live Coverage)',\n",
       "  'publisher': \"Investor's Business Daily\",\n",
       "  'link': 'https://finance.yahoo.com/m/d3ec9b17-cc3f-32f7-84e5-ede5495d964c/indexes-mixed-with-jobs.html',\n",
       "  'providerPublishTime': 1725568847,\n",
       "  'type': 'STORY',\n",
       "  'thumbnail': {'resolutions': [{'url': 'https://s.yimg.com/uu/api/res/1.2/LbSQDgtTkyctqLBXXIL6Tw--~B/aD01NjM7dz0xMDAwO2FwcGlkPXl0YWNoeW9u/https://media.zenfs.com/en/ibd.com/5d75977df71ec357c82ec1dc8e49ebf1',\n",
       "     'width': 1000,\n",
       "     'height': 563,\n",
       "     'tag': 'original'},\n",
       "    {'url': 'https://s.yimg.com/uu/api/res/1.2/Pqd9NginAjUOLzATmNOzXQ--~B/Zmk9ZmlsbDtoPTE0MDtweW9mZj0wO3c9MTQwO2FwcGlkPXl0YWNoeW9u/https://media.zenfs.com/en/ibd.com/5d75977df71ec357c82ec1dc8e49ebf1',\n",
       "     'width': 140,\n",
       "     'height': 140,\n",
       "     'tag': '140x140'}]},\n",
       "  'relatedTickers': ['NVDA']},\n",
       " {'uuid': '54ee2f65-5a50-3985-a58f-b864b08ed8fc',\n",
       "  'title': 'These Stocks Moved the Most Today: C3.ai, Tesla, U.S. Steel, Nvidia, NIO, Frontier Communications, HPE, ChargePoint, and More',\n",
       "  'publisher': 'Barrons.com',\n",
       "  'link': 'https://finance.yahoo.com/m/54ee2f65-5a50-3985-a58f-b864b08ed8fc/these-stocks-moved-the-most.html',\n",
       "  'providerPublishTime': 1725567720,\n",
       "  'type': 'STORY',\n",
       "  'thumbnail': {'resolutions': [{'url': 'https://s.yimg.com/uu/api/res/1.2/_rne5Ll43VJcJ3w.5wXeyg--~B/aD02NDA7dz0xMjgwO2FwcGlkPXl0YWNoeW9u/https://media.zenfs.com/en/Barrons.com/f3b87e0e4ac5dec0fc7150b8c6bc41b7',\n",
       "     'width': 1280,\n",
       "     'height': 640,\n",
       "     'tag': 'original'},\n",
       "    {'url': 'https://s.yimg.com/uu/api/res/1.2/nX7VJHvB4s6OMVVhWaNWeA--~B/Zmk9ZmlsbDtoPTE0MDtweW9mZj0wO3c9MTQwO2FwcGlkPXl0YWNoeW9u/https://media.zenfs.com/en/Barrons.com/f3b87e0e4ac5dec0fc7150b8c6bc41b7',\n",
       "     'width': 140,\n",
       "     'height': 140,\n",
       "     'tag': '140x140'}]},\n",
       "  'relatedTickers': ['NVDA', 'AVGO', 'CHPT', 'X', 'MODG', 'AI', 'TSLA']},\n",
       " {'uuid': 'f346efa4-b775-3e6f-9933-d166fa876314',\n",
       "  'title': \"Bank of America: Nvidia's Recent Stock Slide Could Offer 'Enhanced Buy Opportunity'\",\n",
       "  'publisher': 'Investopedia',\n",
       "  'link': 'https://finance.yahoo.com/m/f346efa4-b775-3e6f-9933-d166fa876314/bank-of-america%3A-nvidia%27s.html',\n",
       "  'providerPublishTime': 1725567694,\n",
       "  'type': 'STORY',\n",
       "  'thumbnail': {'resolutions': [{'url': 'https://s.yimg.com/uu/api/res/1.2/GU8mEGkcvU0.8T7e_L216Q--~B/aD0zMDIwO3c9NDUxNTthcHBpZD15dGFjaHlvbg--/https://media.zenfs.com/en/investopedia_245/069e8952401589a16c4aa253400dea55',\n",
       "     'width': 4515,\n",
       "     'height': 3020,\n",
       "     'tag': 'original'},\n",
       "    {'url': 'https://s.yimg.com/uu/api/res/1.2/mkVGgDWapNl8MEzvkhOFTA--~B/Zmk9ZmlsbDtoPTE0MDtweW9mZj0wO3c9MTQwO2FwcGlkPXl0YWNoeW9u/https://media.zenfs.com/en/investopedia_245/069e8952401589a16c4aa253400dea55',\n",
       "     'width': 140,\n",
       "     'height': 140,\n",
       "     'tag': '140x140'}]},\n",
       "  'relatedTickers': ['NVDA']}]"
      ]
     },
     "execution_count": 22,
     "metadata": {},
     "output_type": "execute_result"
    }
   ],
   "source": [
    "stock_details.news"
   ]
  },
  {
   "cell_type": "code",
   "execution_count": 6,
   "id": "c8ff52e8-59fa-4a7e-9bbb-0878d70226d2",
   "metadata": {},
   "outputs": [
    {
     "data": {
      "text/html": [
       "<div>\n",
       "<style scoped>\n",
       "    .dataframe tbody tr th:only-of-type {\n",
       "        vertical-align: middle;\n",
       "    }\n",
       "\n",
       "    .dataframe tbody tr th {\n",
       "        vertical-align: top;\n",
       "    }\n",
       "\n",
       "    .dataframe thead th {\n",
       "        text-align: right;\n",
       "    }\n",
       "</style>\n",
       "<table border=\"1\" class=\"dataframe\">\n",
       "  <thead>\n",
       "    <tr style=\"text-align: right;\">\n",
       "      <th></th>\n",
       "      <th>Open</th>\n",
       "      <th>High</th>\n",
       "      <th>Low</th>\n",
       "      <th>Close</th>\n",
       "      <th>Volume</th>\n",
       "      <th>Dividends</th>\n",
       "      <th>Stock Splits</th>\n",
       "    </tr>\n",
       "    <tr>\n",
       "      <th>Date</th>\n",
       "      <th></th>\n",
       "      <th></th>\n",
       "      <th></th>\n",
       "      <th></th>\n",
       "      <th></th>\n",
       "      <th></th>\n",
       "      <th></th>\n",
       "    </tr>\n",
       "  </thead>\n",
       "  <tbody>\n",
       "    <tr>\n",
       "      <th>2023-09-06 00:00:00-04:00</th>\n",
       "      <td>48.430490</td>\n",
       "      <td>48.538465</td>\n",
       "      <td>46.569894</td>\n",
       "      <td>47.050789</td>\n",
       "      <td>468670000</td>\n",
       "      <td>0.004</td>\n",
       "      <td>0.0</td>\n",
       "    </tr>\n",
       "    <tr>\n",
       "      <th>2023-09-07 00:00:00-04:00</th>\n",
       "      <td>45.515124</td>\n",
       "      <td>46.333947</td>\n",
       "      <td>45.142204</td>\n",
       "      <td>46.230968</td>\n",
       "      <td>433330000</td>\n",
       "      <td>0.000</td>\n",
       "      <td>0.0</td>\n",
       "    </tr>\n",
       "    <tr>\n",
       "      <th>2023-09-08 00:00:00-04:00</th>\n",
       "      <td>45.932037</td>\n",
       "      <td>46.595891</td>\n",
       "      <td>45.261181</td>\n",
       "      <td>45.562115</td>\n",
       "      <td>473069000</td>\n",
       "      <td>0.000</td>\n",
       "      <td>0.0</td>\n",
       "    </tr>\n",
       "    <tr>\n",
       "      <th>2023-09-11 00:00:00-04:00</th>\n",
       "      <td>46.137988</td>\n",
       "      <td>46.152985</td>\n",
       "      <td>44.302388</td>\n",
       "      <td>45.168201</td>\n",
       "      <td>473966000</td>\n",
       "      <td>0.000</td>\n",
       "      <td>0.0</td>\n",
       "    </tr>\n",
       "    <tr>\n",
       "      <th>2023-09-12 00:00:00-04:00</th>\n",
       "      <td>44.728292</td>\n",
       "      <td>45.663091</td>\n",
       "      <td>44.521337</td>\n",
       "      <td>44.860264</td>\n",
       "      <td>349256000</td>\n",
       "      <td>0.000</td>\n",
       "      <td>0.0</td>\n",
       "    </tr>\n",
       "    <tr>\n",
       "      <th>...</th>\n",
       "      <td>...</td>\n",
       "      <td>...</td>\n",
       "      <td>...</td>\n",
       "      <td>...</td>\n",
       "      <td>...</td>\n",
       "      <td>...</td>\n",
       "      <td>...</td>\n",
       "    </tr>\n",
       "    <tr>\n",
       "      <th>2024-08-29 00:00:00-04:00</th>\n",
       "      <td>121.360001</td>\n",
       "      <td>124.430000</td>\n",
       "      <td>116.709999</td>\n",
       "      <td>117.589996</td>\n",
       "      <td>453023300</td>\n",
       "      <td>0.000</td>\n",
       "      <td>0.0</td>\n",
       "    </tr>\n",
       "    <tr>\n",
       "      <th>2024-08-30 00:00:00-04:00</th>\n",
       "      <td>119.529999</td>\n",
       "      <td>121.750000</td>\n",
       "      <td>117.220001</td>\n",
       "      <td>119.370003</td>\n",
       "      <td>333751600</td>\n",
       "      <td>0.000</td>\n",
       "      <td>0.0</td>\n",
       "    </tr>\n",
       "    <tr>\n",
       "      <th>2024-09-03 00:00:00-04:00</th>\n",
       "      <td>116.010002</td>\n",
       "      <td>116.209999</td>\n",
       "      <td>107.290001</td>\n",
       "      <td>108.000000</td>\n",
       "      <td>474040800</td>\n",
       "      <td>0.000</td>\n",
       "      <td>0.0</td>\n",
       "    </tr>\n",
       "    <tr>\n",
       "      <th>2024-09-04 00:00:00-04:00</th>\n",
       "      <td>105.410004</td>\n",
       "      <td>113.269997</td>\n",
       "      <td>104.120003</td>\n",
       "      <td>106.209999</td>\n",
       "      <td>372470300</td>\n",
       "      <td>0.000</td>\n",
       "      <td>0.0</td>\n",
       "    </tr>\n",
       "    <tr>\n",
       "      <th>2024-09-05 00:00:00-04:00</th>\n",
       "      <td>104.989998</td>\n",
       "      <td>109.650002</td>\n",
       "      <td>104.760002</td>\n",
       "      <td>107.209999</td>\n",
       "      <td>305774900</td>\n",
       "      <td>0.000</td>\n",
       "      <td>0.0</td>\n",
       "    </tr>\n",
       "  </tbody>\n",
       "</table>\n",
       "<p>252 rows × 7 columns</p>\n",
       "</div>"
      ],
      "text/plain": [
       "                                 Open        High         Low       Close  \\\n",
       "Date                                                                        \n",
       "2023-09-06 00:00:00-04:00   48.430490   48.538465   46.569894   47.050789   \n",
       "2023-09-07 00:00:00-04:00   45.515124   46.333947   45.142204   46.230968   \n",
       "2023-09-08 00:00:00-04:00   45.932037   46.595891   45.261181   45.562115   \n",
       "2023-09-11 00:00:00-04:00   46.137988   46.152985   44.302388   45.168201   \n",
       "2023-09-12 00:00:00-04:00   44.728292   45.663091   44.521337   44.860264   \n",
       "...                               ...         ...         ...         ...   \n",
       "2024-08-29 00:00:00-04:00  121.360001  124.430000  116.709999  117.589996   \n",
       "2024-08-30 00:00:00-04:00  119.529999  121.750000  117.220001  119.370003   \n",
       "2024-09-03 00:00:00-04:00  116.010002  116.209999  107.290001  108.000000   \n",
       "2024-09-04 00:00:00-04:00  105.410004  113.269997  104.120003  106.209999   \n",
       "2024-09-05 00:00:00-04:00  104.989998  109.650002  104.760002  107.209999   \n",
       "\n",
       "                              Volume  Dividends  Stock Splits  \n",
       "Date                                                           \n",
       "2023-09-06 00:00:00-04:00  468670000      0.004           0.0  \n",
       "2023-09-07 00:00:00-04:00  433330000      0.000           0.0  \n",
       "2023-09-08 00:00:00-04:00  473069000      0.000           0.0  \n",
       "2023-09-11 00:00:00-04:00  473966000      0.000           0.0  \n",
       "2023-09-12 00:00:00-04:00  349256000      0.000           0.0  \n",
       "...                              ...        ...           ...  \n",
       "2024-08-29 00:00:00-04:00  453023300      0.000           0.0  \n",
       "2024-08-30 00:00:00-04:00  333751600      0.000           0.0  \n",
       "2024-09-03 00:00:00-04:00  474040800      0.000           0.0  \n",
       "2024-09-04 00:00:00-04:00  372470300      0.000           0.0  \n",
       "2024-09-05 00:00:00-04:00  305774900      0.000           0.0  \n",
       "\n",
       "[252 rows x 7 columns]"
      ]
     },
     "execution_count": 6,
     "metadata": {},
     "output_type": "execute_result"
    }
   ],
   "source": [
    "stock_history"
   ]
  },
  {
   "cell_type": "code",
   "execution_count": 7,
   "id": "244693fa-ff30-48ba-ab3f-297a9a32ae4b",
   "metadata": {},
   "outputs": [],
   "source": [
    "import pandas as pd\n",
    "\n",
    "updated_df = stock_history[['Close']]"
   ]
  },
  {
   "cell_type": "code",
   "execution_count": 8,
   "id": "a2481f3d-a537-4e1b-844f-95bc7ddf4de3",
   "metadata": {},
   "outputs": [
    {
     "data": {
      "text/html": [
       "<div>\n",
       "<style scoped>\n",
       "    .dataframe tbody tr th:only-of-type {\n",
       "        vertical-align: middle;\n",
       "    }\n",
       "\n",
       "    .dataframe tbody tr th {\n",
       "        vertical-align: top;\n",
       "    }\n",
       "\n",
       "    .dataframe thead th {\n",
       "        text-align: right;\n",
       "    }\n",
       "</style>\n",
       "<table border=\"1\" class=\"dataframe\">\n",
       "  <thead>\n",
       "    <tr style=\"text-align: right;\">\n",
       "      <th></th>\n",
       "      <th>Close</th>\n",
       "    </tr>\n",
       "    <tr>\n",
       "      <th>Date</th>\n",
       "      <th></th>\n",
       "    </tr>\n",
       "  </thead>\n",
       "  <tbody>\n",
       "    <tr>\n",
       "      <th>2023-09-06 00:00:00-04:00</th>\n",
       "      <td>47.050789</td>\n",
       "    </tr>\n",
       "    <tr>\n",
       "      <th>2023-09-07 00:00:00-04:00</th>\n",
       "      <td>46.230968</td>\n",
       "    </tr>\n",
       "    <tr>\n",
       "      <th>2023-09-08 00:00:00-04:00</th>\n",
       "      <td>45.562115</td>\n",
       "    </tr>\n",
       "    <tr>\n",
       "      <th>2023-09-11 00:00:00-04:00</th>\n",
       "      <td>45.168201</td>\n",
       "    </tr>\n",
       "    <tr>\n",
       "      <th>2023-09-12 00:00:00-04:00</th>\n",
       "      <td>44.860264</td>\n",
       "    </tr>\n",
       "    <tr>\n",
       "      <th>...</th>\n",
       "      <td>...</td>\n",
       "    </tr>\n",
       "    <tr>\n",
       "      <th>2024-08-29 00:00:00-04:00</th>\n",
       "      <td>117.589996</td>\n",
       "    </tr>\n",
       "    <tr>\n",
       "      <th>2024-08-30 00:00:00-04:00</th>\n",
       "      <td>119.370003</td>\n",
       "    </tr>\n",
       "    <tr>\n",
       "      <th>2024-09-03 00:00:00-04:00</th>\n",
       "      <td>108.000000</td>\n",
       "    </tr>\n",
       "    <tr>\n",
       "      <th>2024-09-04 00:00:00-04:00</th>\n",
       "      <td>106.209999</td>\n",
       "    </tr>\n",
       "    <tr>\n",
       "      <th>2024-09-05 00:00:00-04:00</th>\n",
       "      <td>107.209999</td>\n",
       "    </tr>\n",
       "  </tbody>\n",
       "</table>\n",
       "<p>252 rows × 1 columns</p>\n",
       "</div>"
      ],
      "text/plain": [
       "                                Close\n",
       "Date                                 \n",
       "2023-09-06 00:00:00-04:00   47.050789\n",
       "2023-09-07 00:00:00-04:00   46.230968\n",
       "2023-09-08 00:00:00-04:00   45.562115\n",
       "2023-09-11 00:00:00-04:00   45.168201\n",
       "2023-09-12 00:00:00-04:00   44.860264\n",
       "...                               ...\n",
       "2024-08-29 00:00:00-04:00  117.589996\n",
       "2024-08-30 00:00:00-04:00  119.370003\n",
       "2024-09-03 00:00:00-04:00  108.000000\n",
       "2024-09-04 00:00:00-04:00  106.209999\n",
       "2024-09-05 00:00:00-04:00  107.209999\n",
       "\n",
       "[252 rows x 1 columns]"
      ]
     },
     "execution_count": 8,
     "metadata": {},
     "output_type": "execute_result"
    }
   ],
   "source": [
    "updated_df"
   ]
  },
  {
   "cell_type": "code",
   "execution_count": 15,
   "id": "b59466e6-39cc-4dfc-b47b-5794a6be42cf",
   "metadata": {},
   "outputs": [],
   "source": [
    "removed_index = updated_df.reset_index()\n",
    "removed_index['Date'] = removed_index['Date'].dt.date\n",
    "removed_index.rename(columns = {'Close':'Profit'}, inplace = True)"
   ]
  },
  {
   "cell_type": "code",
   "execution_count": 16,
   "id": "1b62d1c9-e14e-43fc-98a3-293451b2e034",
   "metadata": {},
   "outputs": [
    {
     "data": {
      "text/html": [
       "<div>\n",
       "<style scoped>\n",
       "    .dataframe tbody tr th:only-of-type {\n",
       "        vertical-align: middle;\n",
       "    }\n",
       "\n",
       "    .dataframe tbody tr th {\n",
       "        vertical-align: top;\n",
       "    }\n",
       "\n",
       "    .dataframe thead th {\n",
       "        text-align: right;\n",
       "    }\n",
       "</style>\n",
       "<table border=\"1\" class=\"dataframe\">\n",
       "  <thead>\n",
       "    <tr style=\"text-align: right;\">\n",
       "      <th></th>\n",
       "      <th>Date</th>\n",
       "      <th>Profit</th>\n",
       "    </tr>\n",
       "  </thead>\n",
       "  <tbody>\n",
       "    <tr>\n",
       "      <th>0</th>\n",
       "      <td>2023-09-06</td>\n",
       "      <td>47.050789</td>\n",
       "    </tr>\n",
       "    <tr>\n",
       "      <th>1</th>\n",
       "      <td>2023-09-07</td>\n",
       "      <td>46.230968</td>\n",
       "    </tr>\n",
       "    <tr>\n",
       "      <th>2</th>\n",
       "      <td>2023-09-08</td>\n",
       "      <td>45.562115</td>\n",
       "    </tr>\n",
       "    <tr>\n",
       "      <th>3</th>\n",
       "      <td>2023-09-11</td>\n",
       "      <td>45.168201</td>\n",
       "    </tr>\n",
       "    <tr>\n",
       "      <th>4</th>\n",
       "      <td>2023-09-12</td>\n",
       "      <td>44.860264</td>\n",
       "    </tr>\n",
       "    <tr>\n",
       "      <th>...</th>\n",
       "      <td>...</td>\n",
       "      <td>...</td>\n",
       "    </tr>\n",
       "    <tr>\n",
       "      <th>247</th>\n",
       "      <td>2024-08-29</td>\n",
       "      <td>117.589996</td>\n",
       "    </tr>\n",
       "    <tr>\n",
       "      <th>248</th>\n",
       "      <td>2024-08-30</td>\n",
       "      <td>119.370003</td>\n",
       "    </tr>\n",
       "    <tr>\n",
       "      <th>249</th>\n",
       "      <td>2024-09-03</td>\n",
       "      <td>108.000000</td>\n",
       "    </tr>\n",
       "    <tr>\n",
       "      <th>250</th>\n",
       "      <td>2024-09-04</td>\n",
       "      <td>106.209999</td>\n",
       "    </tr>\n",
       "    <tr>\n",
       "      <th>251</th>\n",
       "      <td>2024-09-05</td>\n",
       "      <td>107.209999</td>\n",
       "    </tr>\n",
       "  </tbody>\n",
       "</table>\n",
       "<p>252 rows × 2 columns</p>\n",
       "</div>"
      ],
      "text/plain": [
       "           Date      Profit\n",
       "0    2023-09-06   47.050789\n",
       "1    2023-09-07   46.230968\n",
       "2    2023-09-08   45.562115\n",
       "3    2023-09-11   45.168201\n",
       "4    2023-09-12   44.860264\n",
       "..          ...         ...\n",
       "247  2024-08-29  117.589996\n",
       "248  2024-08-30  119.370003\n",
       "249  2024-09-03  108.000000\n",
       "250  2024-09-04  106.209999\n",
       "251  2024-09-05  107.209999\n",
       "\n",
       "[252 rows x 2 columns]"
      ]
     },
     "execution_count": 16,
     "metadata": {},
     "output_type": "execute_result"
    }
   ],
   "source": [
    "removed_index"
   ]
  },
  {
   "cell_type": "code",
   "execution_count": 18,
   "id": "23558a57-f804-473a-88ec-9180caa96f47",
   "metadata": {},
   "outputs": [
    {
     "data": {
      "text/html": [
       "        <script type=\"text/javascript\">\n",
       "        window.PlotlyConfig = {MathJaxConfig: 'local'};\n",
       "        if (window.MathJax && window.MathJax.Hub && window.MathJax.Hub.Config) {window.MathJax.Hub.Config({SVG: {font: \"STIX-Web\"}});}\n",
       "        if (typeof require !== 'undefined') {\n",
       "        require.undef(\"plotly\");\n",
       "        requirejs.config({\n",
       "            paths: {\n",
       "                'plotly': ['https://cdn.plot.ly/plotly-2.35.0.min']\n",
       "            }\n",
       "        });\n",
       "        require(['plotly'], function(Plotly) {\n",
       "            window._Plotly = Plotly;\n",
       "        });\n",
       "        }\n",
       "        </script>\n",
       "        "
      ]
     },
     "metadata": {},
     "output_type": "display_data"
    },
    {
     "data": {
      "application/vnd.plotly.v1+json": {
       "config": {
        "plotlyServerURL": "https://plot.ly"
       },
       "data": [
        {
         "hovertemplate": "Date=%{x}<br>Profit=%{y}<extra></extra>",
         "legendgroup": "",
         "line": {
          "color": "#636efa",
          "dash": "solid"
         },
         "marker": {
          "symbol": "circle"
         },
         "mode": "lines",
         "name": "",
         "orientation": "v",
         "showlegend": false,
         "type": "scatter",
         "x": [
          "2023-09-06",
          "2023-09-07",
          "2023-09-08",
          "2023-09-11",
          "2023-09-12",
          "2023-09-13",
          "2023-09-14",
          "2023-09-15",
          "2023-09-18",
          "2023-09-19",
          "2023-09-20",
          "2023-09-21",
          "2023-09-22",
          "2023-09-25",
          "2023-09-26",
          "2023-09-27",
          "2023-09-28",
          "2023-09-29",
          "2023-10-02",
          "2023-10-03",
          "2023-10-04",
          "2023-10-05",
          "2023-10-06",
          "2023-10-09",
          "2023-10-10",
          "2023-10-11",
          "2023-10-12",
          "2023-10-13",
          "2023-10-16",
          "2023-10-17",
          "2023-10-18",
          "2023-10-19",
          "2023-10-20",
          "2023-10-23",
          "2023-10-24",
          "2023-10-25",
          "2023-10-26",
          "2023-10-27",
          "2023-10-30",
          "2023-10-31",
          "2023-11-01",
          "2023-11-02",
          "2023-11-03",
          "2023-11-06",
          "2023-11-07",
          "2023-11-08",
          "2023-11-09",
          "2023-11-10",
          "2023-11-13",
          "2023-11-14",
          "2023-11-15",
          "2023-11-16",
          "2023-11-17",
          "2023-11-20",
          "2023-11-21",
          "2023-11-22",
          "2023-11-24",
          "2023-11-27",
          "2023-11-28",
          "2023-11-29",
          "2023-11-30",
          "2023-12-01",
          "2023-12-04",
          "2023-12-05",
          "2023-12-06",
          "2023-12-07",
          "2023-12-08",
          "2023-12-11",
          "2023-12-12",
          "2023-12-13",
          "2023-12-14",
          "2023-12-15",
          "2023-12-18",
          "2023-12-19",
          "2023-12-20",
          "2023-12-21",
          "2023-12-22",
          "2023-12-26",
          "2023-12-27",
          "2023-12-28",
          "2023-12-29",
          "2024-01-02",
          "2024-01-03",
          "2024-01-04",
          "2024-01-05",
          "2024-01-08",
          "2024-01-09",
          "2024-01-10",
          "2024-01-11",
          "2024-01-12",
          "2024-01-16",
          "2024-01-17",
          "2024-01-18",
          "2024-01-19",
          "2024-01-22",
          "2024-01-23",
          "2024-01-24",
          "2024-01-25",
          "2024-01-26",
          "2024-01-29",
          "2024-01-30",
          "2024-01-31",
          "2024-02-01",
          "2024-02-02",
          "2024-02-05",
          "2024-02-06",
          "2024-02-07",
          "2024-02-08",
          "2024-02-09",
          "2024-02-12",
          "2024-02-13",
          "2024-02-14",
          "2024-02-15",
          "2024-02-16",
          "2024-02-20",
          "2024-02-21",
          "2024-02-22",
          "2024-02-23",
          "2024-02-26",
          "2024-02-27",
          "2024-02-28",
          "2024-02-29",
          "2024-03-01",
          "2024-03-04",
          "2024-03-05",
          "2024-03-06",
          "2024-03-07",
          "2024-03-08",
          "2024-03-11",
          "2024-03-12",
          "2024-03-13",
          "2024-03-14",
          "2024-03-15",
          "2024-03-18",
          "2024-03-19",
          "2024-03-20",
          "2024-03-21",
          "2024-03-22",
          "2024-03-25",
          "2024-03-26",
          "2024-03-27",
          "2024-03-28",
          "2024-04-01",
          "2024-04-02",
          "2024-04-03",
          "2024-04-04",
          "2024-04-05",
          "2024-04-08",
          "2024-04-09",
          "2024-04-10",
          "2024-04-11",
          "2024-04-12",
          "2024-04-15",
          "2024-04-16",
          "2024-04-17",
          "2024-04-18",
          "2024-04-19",
          "2024-04-22",
          "2024-04-23",
          "2024-04-24",
          "2024-04-25",
          "2024-04-26",
          "2024-04-29",
          "2024-04-30",
          "2024-05-01",
          "2024-05-02",
          "2024-05-03",
          "2024-05-06",
          "2024-05-07",
          "2024-05-08",
          "2024-05-09",
          "2024-05-10",
          "2024-05-13",
          "2024-05-14",
          "2024-05-15",
          "2024-05-16",
          "2024-05-17",
          "2024-05-20",
          "2024-05-21",
          "2024-05-22",
          "2024-05-23",
          "2024-05-24",
          "2024-05-28",
          "2024-05-29",
          "2024-05-30",
          "2024-05-31",
          "2024-06-03",
          "2024-06-04",
          "2024-06-05",
          "2024-06-06",
          "2024-06-07",
          "2024-06-10",
          "2024-06-11",
          "2024-06-12",
          "2024-06-13",
          "2024-06-14",
          "2024-06-17",
          "2024-06-18",
          "2024-06-20",
          "2024-06-21",
          "2024-06-24",
          "2024-06-25",
          "2024-06-26",
          "2024-06-27",
          "2024-06-28",
          "2024-07-01",
          "2024-07-02",
          "2024-07-03",
          "2024-07-05",
          "2024-07-08",
          "2024-07-09",
          "2024-07-10",
          "2024-07-11",
          "2024-07-12",
          "2024-07-15",
          "2024-07-16",
          "2024-07-17",
          "2024-07-18",
          "2024-07-19",
          "2024-07-22",
          "2024-07-23",
          "2024-07-24",
          "2024-07-25",
          "2024-07-26",
          "2024-07-29",
          "2024-07-30",
          "2024-07-31",
          "2024-08-01",
          "2024-08-02",
          "2024-08-05",
          "2024-08-06",
          "2024-08-07",
          "2024-08-08",
          "2024-08-09",
          "2024-08-12",
          "2024-08-13",
          "2024-08-14",
          "2024-08-15",
          "2024-08-16",
          "2024-08-19",
          "2024-08-20",
          "2024-08-21",
          "2024-08-22",
          "2024-08-23",
          "2024-08-26",
          "2024-08-27",
          "2024-08-28",
          "2024-08-29",
          "2024-08-30",
          "2024-09-03",
          "2024-09-04",
          "2024-09-05"
         ],
         "xaxis": "x",
         "y": [
          47.05078887939453,
          46.2309684753418,
          45.56211471557617,
          45.1682014465332,
          44.86026382446289,
          45.475135803222656,
          45.57111740112305,
          43.89047622680664,
          43.956459045410156,
          43.51055908203125,
          42.22983932495117,
          41.00810241699219,
          41.60097122192383,
          42.21284103393555,
          41.90190887451172,
          42.45878601074219,
          43.07965087890625,
          43.48956298828125,
          44.77228546142578,
          43.5075569152832,
          44.03144454956055,
          44.678306579589844,
          45.752071380615234,
          45.26317596435547,
          45.788063049316406,
          46.795841217041016,
          46.934814453125,
          45.451133728027344,
          46.08500289916992,
          43.928466796875,
          42.18684768676758,
          42.09186935424805,
          41.378021240234375,
          42.96567916870117,
          43.653526306152344,
          41.769935607910156,
          40.31725311279297,
          40.491214752197266,
          41.152069091796875,
          40.77115249633789,
          42.31582260131836,
          43.496559143066406,
          44.9952392578125,
          45.74107360839844,
          45.94503402709961,
          46.56389617919922,
          46.939815521240234,
          48.32451248168945,
          48.60944747924805,
          49.645225524902344,
          48.87739562988281,
          49.469268798828125,
          49.28730773925781,
          50.39806365966797,
          49.93316650390625,
          48.70542907714844,
          47.7656364440918,
          48.23153305053711,
          47.81062316894531,
          48.12955856323242,
          46.75985336303711,
          46.754852294921875,
          45.5001220703125,
          46.55998992919922,
          45.49712371826172,
          46.589988708496094,
          47.49987030029297,
          46.6209831237793,
          47.65085220336914,
          48.0817985534668,
          48.34375762939453,
          48.883689880371094,
          50.07053756713867,
          49.597599029541016,
          48.10478973388672,
          48.983680725097656,
          48.82370376586914,
          49.272640228271484,
          49.410621643066406,
          49.51560974121094,
          49.51560974121094,
          48.16178512573242,
          47.562862396240234,
          47.9918098449707,
          49.09066390991211,
          52.246253967285156,
          53.13314437866211,
          54.342987060546875,
          54.81492614746094,
          54.702938079833984,
          56.374725341796875,
          56.04576873779297,
          57.09962844848633,
          59.48332214355469,
          59.64630126953125,
          59.86527633666992,
          61.35408020019531,
          61.609046936035156,
          61.02312469482422,
          62.456939697265625,
          62.76589584350586,
          61.51905822753906,
          63.01886749267578,
          66.1514663696289,
          69.32305908203125,
          68.21420288085938,
          70.08995056152344,
          69.63201141357422,
          72.12368774414062,
          72.23867797851562,
          72.11869812011719,
          73.89046478271484,
          72.64862060546875,
          72.60363006591797,
          69.44303894042969,
          67.46329498291016,
          78.52787017822266,
          78.80683135986328,
          79.08180236816406,
          78.69084167480469,
          77.6529769897461,
          79.10179138183594,
          82.26837921142578,
          85.22599792480469,
          85.95693969726562,
          88.69271087646484,
          92.66138458251953,
          87.52081298828125,
          85.76696014404297,
          91.90544891357422,
          90.88053894042969,
          87.93677520751953,
          87.82978057861328,
          88.44773864746094,
          89.39066314697266,
          90.36457824707031,
          91.427490234375,
          94.28125762939453,
          94.99419403076172,
          92.55339813232422,
          90.24258422851562,
          90.34857940673828,
          90.35557556152344,
          89.44465637207031,
          88.9566879272461,
          85.89794158935547,
          88.00077819824219,
          87.12584686279297,
          85.34698486328125,
          87.03185272216797,
          90.60855102539062,
          88.17875671386719,
          85.99393463134766,
          87.40782165527344,
          84.0280990600586,
          84.6640396118164,
          76.19374084472656,
          79.51146697998047,
          82.41622924804688,
          79.67045593261719,
          82.62521362304688,
          87.72779083251953,
          87.74979400634766,
          86.39490509033203,
          83.0341796875,
          85.80995178222656,
          88.78170776367188,
          92.13243103027344,
          90.54656219482422,
          90.40457916259766,
          88.73971557617188,
          89.87061309814453,
          90.3915786743164,
          91.34849548339844,
          94.62222290039062,
          94.35124969482422,
          92.47139739990234,
          94.772216796875,
          95.37816619873047,
          94.94219970703125,
          103.79048156738281,
          106.46025848388672,
          113.89164733886719,
          114.81556701660156,
          110.49092102050781,
          109.6240005493164,
          114.99055480957031,
          116.42742919921875,
          122.42994689941406,
          120.9880599975586,
          120.8780746459961,
          121.77999877929688,
          120.91000366210938,
          125.19999694824219,
          129.61000061035156,
          131.8800048828125,
          130.97999572753906,
          135.5800018310547,
          130.77999877929688,
          126.56999969482422,
          118.11000061035156,
          126.08999633789062,
          126.4000015258789,
          123.98999786376953,
          123.54000091552734,
          124.30000305175781,
          122.66999816894531,
          128.27999877929688,
          125.83000183105469,
          128.1999969482422,
          131.3800048828125,
          134.91000366210938,
          127.4000015258789,
          129.24000549316406,
          128.44000244140625,
          126.36000061035156,
          117.98999786376953,
          121.08999633789062,
          117.93000030517578,
          123.54000091552734,
          122.58999633789062,
          114.25,
          112.27999877929688,
          113.05999755859375,
          111.58999633789062,
          103.7300033569336,
          117.0199966430664,
          109.20999908447266,
          107.2699966430664,
          100.44999694824219,
          104.25,
          98.91000366210938,
          104.97000122070312,
          104.75,
          109.0199966430664,
          116.13999938964844,
          118.08000183105469,
          122.86000061035156,
          124.58000183105469,
          130,
          127.25,
          128.5,
          123.73999786376953,
          129.3699951171875,
          126.45999908447266,
          128.3000030517578,
          125.61000061035156,
          117.58999633789062,
          119.37000274658203,
          108,
          106.20999908447266,
          107.20999908447266
         ],
         "yaxis": "y"
        }
       ],
       "layout": {
        "legend": {
         "tracegroupgap": 0
        },
        "template": {
         "data": {
          "bar": [
           {
            "error_x": {
             "color": "#2a3f5f"
            },
            "error_y": {
             "color": "#2a3f5f"
            },
            "marker": {
             "line": {
              "color": "#E5ECF6",
              "width": 0.5
             },
             "pattern": {
              "fillmode": "overlay",
              "size": 10,
              "solidity": 0.2
             }
            },
            "type": "bar"
           }
          ],
          "barpolar": [
           {
            "marker": {
             "line": {
              "color": "#E5ECF6",
              "width": 0.5
             },
             "pattern": {
              "fillmode": "overlay",
              "size": 10,
              "solidity": 0.2
             }
            },
            "type": "barpolar"
           }
          ],
          "carpet": [
           {
            "aaxis": {
             "endlinecolor": "#2a3f5f",
             "gridcolor": "white",
             "linecolor": "white",
             "minorgridcolor": "white",
             "startlinecolor": "#2a3f5f"
            },
            "baxis": {
             "endlinecolor": "#2a3f5f",
             "gridcolor": "white",
             "linecolor": "white",
             "minorgridcolor": "white",
             "startlinecolor": "#2a3f5f"
            },
            "type": "carpet"
           }
          ],
          "choropleth": [
           {
            "colorbar": {
             "outlinewidth": 0,
             "ticks": ""
            },
            "type": "choropleth"
           }
          ],
          "contour": [
           {
            "colorbar": {
             "outlinewidth": 0,
             "ticks": ""
            },
            "colorscale": [
             [
              0,
              "#0d0887"
             ],
             [
              0.1111111111111111,
              "#46039f"
             ],
             [
              0.2222222222222222,
              "#7201a8"
             ],
             [
              0.3333333333333333,
              "#9c179e"
             ],
             [
              0.4444444444444444,
              "#bd3786"
             ],
             [
              0.5555555555555556,
              "#d8576b"
             ],
             [
              0.6666666666666666,
              "#ed7953"
             ],
             [
              0.7777777777777778,
              "#fb9f3a"
             ],
             [
              0.8888888888888888,
              "#fdca26"
             ],
             [
              1,
              "#f0f921"
             ]
            ],
            "type": "contour"
           }
          ],
          "contourcarpet": [
           {
            "colorbar": {
             "outlinewidth": 0,
             "ticks": ""
            },
            "type": "contourcarpet"
           }
          ],
          "heatmap": [
           {
            "colorbar": {
             "outlinewidth": 0,
             "ticks": ""
            },
            "colorscale": [
             [
              0,
              "#0d0887"
             ],
             [
              0.1111111111111111,
              "#46039f"
             ],
             [
              0.2222222222222222,
              "#7201a8"
             ],
             [
              0.3333333333333333,
              "#9c179e"
             ],
             [
              0.4444444444444444,
              "#bd3786"
             ],
             [
              0.5555555555555556,
              "#d8576b"
             ],
             [
              0.6666666666666666,
              "#ed7953"
             ],
             [
              0.7777777777777778,
              "#fb9f3a"
             ],
             [
              0.8888888888888888,
              "#fdca26"
             ],
             [
              1,
              "#f0f921"
             ]
            ],
            "type": "heatmap"
           }
          ],
          "heatmapgl": [
           {
            "colorbar": {
             "outlinewidth": 0,
             "ticks": ""
            },
            "colorscale": [
             [
              0,
              "#0d0887"
             ],
             [
              0.1111111111111111,
              "#46039f"
             ],
             [
              0.2222222222222222,
              "#7201a8"
             ],
             [
              0.3333333333333333,
              "#9c179e"
             ],
             [
              0.4444444444444444,
              "#bd3786"
             ],
             [
              0.5555555555555556,
              "#d8576b"
             ],
             [
              0.6666666666666666,
              "#ed7953"
             ],
             [
              0.7777777777777778,
              "#fb9f3a"
             ],
             [
              0.8888888888888888,
              "#fdca26"
             ],
             [
              1,
              "#f0f921"
             ]
            ],
            "type": "heatmapgl"
           }
          ],
          "histogram": [
           {
            "marker": {
             "pattern": {
              "fillmode": "overlay",
              "size": 10,
              "solidity": 0.2
             }
            },
            "type": "histogram"
           }
          ],
          "histogram2d": [
           {
            "colorbar": {
             "outlinewidth": 0,
             "ticks": ""
            },
            "colorscale": [
             [
              0,
              "#0d0887"
             ],
             [
              0.1111111111111111,
              "#46039f"
             ],
             [
              0.2222222222222222,
              "#7201a8"
             ],
             [
              0.3333333333333333,
              "#9c179e"
             ],
             [
              0.4444444444444444,
              "#bd3786"
             ],
             [
              0.5555555555555556,
              "#d8576b"
             ],
             [
              0.6666666666666666,
              "#ed7953"
             ],
             [
              0.7777777777777778,
              "#fb9f3a"
             ],
             [
              0.8888888888888888,
              "#fdca26"
             ],
             [
              1,
              "#f0f921"
             ]
            ],
            "type": "histogram2d"
           }
          ],
          "histogram2dcontour": [
           {
            "colorbar": {
             "outlinewidth": 0,
             "ticks": ""
            },
            "colorscale": [
             [
              0,
              "#0d0887"
             ],
             [
              0.1111111111111111,
              "#46039f"
             ],
             [
              0.2222222222222222,
              "#7201a8"
             ],
             [
              0.3333333333333333,
              "#9c179e"
             ],
             [
              0.4444444444444444,
              "#bd3786"
             ],
             [
              0.5555555555555556,
              "#d8576b"
             ],
             [
              0.6666666666666666,
              "#ed7953"
             ],
             [
              0.7777777777777778,
              "#fb9f3a"
             ],
             [
              0.8888888888888888,
              "#fdca26"
             ],
             [
              1,
              "#f0f921"
             ]
            ],
            "type": "histogram2dcontour"
           }
          ],
          "mesh3d": [
           {
            "colorbar": {
             "outlinewidth": 0,
             "ticks": ""
            },
            "type": "mesh3d"
           }
          ],
          "parcoords": [
           {
            "line": {
             "colorbar": {
              "outlinewidth": 0,
              "ticks": ""
             }
            },
            "type": "parcoords"
           }
          ],
          "pie": [
           {
            "automargin": true,
            "type": "pie"
           }
          ],
          "scatter": [
           {
            "fillpattern": {
             "fillmode": "overlay",
             "size": 10,
             "solidity": 0.2
            },
            "type": "scatter"
           }
          ],
          "scatter3d": [
           {
            "line": {
             "colorbar": {
              "outlinewidth": 0,
              "ticks": ""
             }
            },
            "marker": {
             "colorbar": {
              "outlinewidth": 0,
              "ticks": ""
             }
            },
            "type": "scatter3d"
           }
          ],
          "scattercarpet": [
           {
            "marker": {
             "colorbar": {
              "outlinewidth": 0,
              "ticks": ""
             }
            },
            "type": "scattercarpet"
           }
          ],
          "scattergeo": [
           {
            "marker": {
             "colorbar": {
              "outlinewidth": 0,
              "ticks": ""
             }
            },
            "type": "scattergeo"
           }
          ],
          "scattergl": [
           {
            "marker": {
             "colorbar": {
              "outlinewidth": 0,
              "ticks": ""
             }
            },
            "type": "scattergl"
           }
          ],
          "scattermapbox": [
           {
            "marker": {
             "colorbar": {
              "outlinewidth": 0,
              "ticks": ""
             }
            },
            "type": "scattermapbox"
           }
          ],
          "scatterpolar": [
           {
            "marker": {
             "colorbar": {
              "outlinewidth": 0,
              "ticks": ""
             }
            },
            "type": "scatterpolar"
           }
          ],
          "scatterpolargl": [
           {
            "marker": {
             "colorbar": {
              "outlinewidth": 0,
              "ticks": ""
             }
            },
            "type": "scatterpolargl"
           }
          ],
          "scatterternary": [
           {
            "marker": {
             "colorbar": {
              "outlinewidth": 0,
              "ticks": ""
             }
            },
            "type": "scatterternary"
           }
          ],
          "surface": [
           {
            "colorbar": {
             "outlinewidth": 0,
             "ticks": ""
            },
            "colorscale": [
             [
              0,
              "#0d0887"
             ],
             [
              0.1111111111111111,
              "#46039f"
             ],
             [
              0.2222222222222222,
              "#7201a8"
             ],
             [
              0.3333333333333333,
              "#9c179e"
             ],
             [
              0.4444444444444444,
              "#bd3786"
             ],
             [
              0.5555555555555556,
              "#d8576b"
             ],
             [
              0.6666666666666666,
              "#ed7953"
             ],
             [
              0.7777777777777778,
              "#fb9f3a"
             ],
             [
              0.8888888888888888,
              "#fdca26"
             ],
             [
              1,
              "#f0f921"
             ]
            ],
            "type": "surface"
           }
          ],
          "table": [
           {
            "cells": {
             "fill": {
              "color": "#EBF0F8"
             },
             "line": {
              "color": "white"
             }
            },
            "header": {
             "fill": {
              "color": "#C8D4E3"
             },
             "line": {
              "color": "white"
             }
            },
            "type": "table"
           }
          ]
         },
         "layout": {
          "annotationdefaults": {
           "arrowcolor": "#2a3f5f",
           "arrowhead": 0,
           "arrowwidth": 1
          },
          "autotypenumbers": "strict",
          "coloraxis": {
           "colorbar": {
            "outlinewidth": 0,
            "ticks": ""
           }
          },
          "colorscale": {
           "diverging": [
            [
             0,
             "#8e0152"
            ],
            [
             0.1,
             "#c51b7d"
            ],
            [
             0.2,
             "#de77ae"
            ],
            [
             0.3,
             "#f1b6da"
            ],
            [
             0.4,
             "#fde0ef"
            ],
            [
             0.5,
             "#f7f7f7"
            ],
            [
             0.6,
             "#e6f5d0"
            ],
            [
             0.7,
             "#b8e186"
            ],
            [
             0.8,
             "#7fbc41"
            ],
            [
             0.9,
             "#4d9221"
            ],
            [
             1,
             "#276419"
            ]
           ],
           "sequential": [
            [
             0,
             "#0d0887"
            ],
            [
             0.1111111111111111,
             "#46039f"
            ],
            [
             0.2222222222222222,
             "#7201a8"
            ],
            [
             0.3333333333333333,
             "#9c179e"
            ],
            [
             0.4444444444444444,
             "#bd3786"
            ],
            [
             0.5555555555555556,
             "#d8576b"
            ],
            [
             0.6666666666666666,
             "#ed7953"
            ],
            [
             0.7777777777777778,
             "#fb9f3a"
            ],
            [
             0.8888888888888888,
             "#fdca26"
            ],
            [
             1,
             "#f0f921"
            ]
           ],
           "sequentialminus": [
            [
             0,
             "#0d0887"
            ],
            [
             0.1111111111111111,
             "#46039f"
            ],
            [
             0.2222222222222222,
             "#7201a8"
            ],
            [
             0.3333333333333333,
             "#9c179e"
            ],
            [
             0.4444444444444444,
             "#bd3786"
            ],
            [
             0.5555555555555556,
             "#d8576b"
            ],
            [
             0.6666666666666666,
             "#ed7953"
            ],
            [
             0.7777777777777778,
             "#fb9f3a"
            ],
            [
             0.8888888888888888,
             "#fdca26"
            ],
            [
             1,
             "#f0f921"
            ]
           ]
          },
          "colorway": [
           "#636efa",
           "#EF553B",
           "#00cc96",
           "#ab63fa",
           "#FFA15A",
           "#19d3f3",
           "#FF6692",
           "#B6E880",
           "#FF97FF",
           "#FECB52"
          ],
          "font": {
           "color": "#2a3f5f"
          },
          "geo": {
           "bgcolor": "white",
           "lakecolor": "white",
           "landcolor": "#E5ECF6",
           "showlakes": true,
           "showland": true,
           "subunitcolor": "white"
          },
          "hoverlabel": {
           "align": "left"
          },
          "hovermode": "closest",
          "mapbox": {
           "style": "light"
          },
          "paper_bgcolor": "white",
          "plot_bgcolor": "#E5ECF6",
          "polar": {
           "angularaxis": {
            "gridcolor": "white",
            "linecolor": "white",
            "ticks": ""
           },
           "bgcolor": "#E5ECF6",
           "radialaxis": {
            "gridcolor": "white",
            "linecolor": "white",
            "ticks": ""
           }
          },
          "scene": {
           "xaxis": {
            "backgroundcolor": "#E5ECF6",
            "gridcolor": "white",
            "gridwidth": 2,
            "linecolor": "white",
            "showbackground": true,
            "ticks": "",
            "zerolinecolor": "white"
           },
           "yaxis": {
            "backgroundcolor": "#E5ECF6",
            "gridcolor": "white",
            "gridwidth": 2,
            "linecolor": "white",
            "showbackground": true,
            "ticks": "",
            "zerolinecolor": "white"
           },
           "zaxis": {
            "backgroundcolor": "#E5ECF6",
            "gridcolor": "white",
            "gridwidth": 2,
            "linecolor": "white",
            "showbackground": true,
            "ticks": "",
            "zerolinecolor": "white"
           }
          },
          "shapedefaults": {
           "line": {
            "color": "#2a3f5f"
           }
          },
          "ternary": {
           "aaxis": {
            "gridcolor": "white",
            "linecolor": "white",
            "ticks": ""
           },
           "baxis": {
            "gridcolor": "white",
            "linecolor": "white",
            "ticks": ""
           },
           "bgcolor": "#E5ECF6",
           "caxis": {
            "gridcolor": "white",
            "linecolor": "white",
            "ticks": ""
           }
          },
          "title": {
           "x": 0.05
          },
          "xaxis": {
           "automargin": true,
           "gridcolor": "white",
           "linecolor": "white",
           "ticks": "",
           "title": {
            "standoff": 15
           },
           "zerolinecolor": "white",
           "zerolinewidth": 2
          },
          "yaxis": {
           "automargin": true,
           "gridcolor": "white",
           "linecolor": "white",
           "ticks": "",
           "title": {
            "standoff": 15
           },
           "zerolinecolor": "white",
           "zerolinewidth": 2
          }
         }
        },
        "title": {
         "text": "Price of NVDA Stock"
        },
        "xaxis": {
         "anchor": "y",
         "domain": [
          0,
          1
         ],
         "title": {
          "text": "Date"
         }
        },
        "yaxis": {
         "anchor": "x",
         "domain": [
          0,
          1
         ],
         "title": {
          "text": "Profit"
         }
        }
       }
      },
      "text/html": [
       "<div>                            <div id=\"54043a9f-cfc7-4588-8b6c-cd13381125e5\" class=\"plotly-graph-div\" style=\"height:525px; width:100%;\"></div>            <script type=\"text/javascript\">                require([\"plotly\"], function(Plotly) {                    window.PLOTLYENV=window.PLOTLYENV || {};                                    if (document.getElementById(\"54043a9f-cfc7-4588-8b6c-cd13381125e5\")) {                    Plotly.newPlot(                        \"54043a9f-cfc7-4588-8b6c-cd13381125e5\",                        [{\"hovertemplate\":\"Date=%{x}\\u003cbr\\u003eProfit=%{y}\\u003cextra\\u003e\\u003c\\u002fextra\\u003e\",\"legendgroup\":\"\",\"line\":{\"color\":\"#636efa\",\"dash\":\"solid\"},\"marker\":{\"symbol\":\"circle\"},\"mode\":\"lines\",\"name\":\"\",\"orientation\":\"v\",\"showlegend\":false,\"x\":[\"2023-09-06\",\"2023-09-07\",\"2023-09-08\",\"2023-09-11\",\"2023-09-12\",\"2023-09-13\",\"2023-09-14\",\"2023-09-15\",\"2023-09-18\",\"2023-09-19\",\"2023-09-20\",\"2023-09-21\",\"2023-09-22\",\"2023-09-25\",\"2023-09-26\",\"2023-09-27\",\"2023-09-28\",\"2023-09-29\",\"2023-10-02\",\"2023-10-03\",\"2023-10-04\",\"2023-10-05\",\"2023-10-06\",\"2023-10-09\",\"2023-10-10\",\"2023-10-11\",\"2023-10-12\",\"2023-10-13\",\"2023-10-16\",\"2023-10-17\",\"2023-10-18\",\"2023-10-19\",\"2023-10-20\",\"2023-10-23\",\"2023-10-24\",\"2023-10-25\",\"2023-10-26\",\"2023-10-27\",\"2023-10-30\",\"2023-10-31\",\"2023-11-01\",\"2023-11-02\",\"2023-11-03\",\"2023-11-06\",\"2023-11-07\",\"2023-11-08\",\"2023-11-09\",\"2023-11-10\",\"2023-11-13\",\"2023-11-14\",\"2023-11-15\",\"2023-11-16\",\"2023-11-17\",\"2023-11-20\",\"2023-11-21\",\"2023-11-22\",\"2023-11-24\",\"2023-11-27\",\"2023-11-28\",\"2023-11-29\",\"2023-11-30\",\"2023-12-01\",\"2023-12-04\",\"2023-12-05\",\"2023-12-06\",\"2023-12-07\",\"2023-12-08\",\"2023-12-11\",\"2023-12-12\",\"2023-12-13\",\"2023-12-14\",\"2023-12-15\",\"2023-12-18\",\"2023-12-19\",\"2023-12-20\",\"2023-12-21\",\"2023-12-22\",\"2023-12-26\",\"2023-12-27\",\"2023-12-28\",\"2023-12-29\",\"2024-01-02\",\"2024-01-03\",\"2024-01-04\",\"2024-01-05\",\"2024-01-08\",\"2024-01-09\",\"2024-01-10\",\"2024-01-11\",\"2024-01-12\",\"2024-01-16\",\"2024-01-17\",\"2024-01-18\",\"2024-01-19\",\"2024-01-22\",\"2024-01-23\",\"2024-01-24\",\"2024-01-25\",\"2024-01-26\",\"2024-01-29\",\"2024-01-30\",\"2024-01-31\",\"2024-02-01\",\"2024-02-02\",\"2024-02-05\",\"2024-02-06\",\"2024-02-07\",\"2024-02-08\",\"2024-02-09\",\"2024-02-12\",\"2024-02-13\",\"2024-02-14\",\"2024-02-15\",\"2024-02-16\",\"2024-02-20\",\"2024-02-21\",\"2024-02-22\",\"2024-02-23\",\"2024-02-26\",\"2024-02-27\",\"2024-02-28\",\"2024-02-29\",\"2024-03-01\",\"2024-03-04\",\"2024-03-05\",\"2024-03-06\",\"2024-03-07\",\"2024-03-08\",\"2024-03-11\",\"2024-03-12\",\"2024-03-13\",\"2024-03-14\",\"2024-03-15\",\"2024-03-18\",\"2024-03-19\",\"2024-03-20\",\"2024-03-21\",\"2024-03-22\",\"2024-03-25\",\"2024-03-26\",\"2024-03-27\",\"2024-03-28\",\"2024-04-01\",\"2024-04-02\",\"2024-04-03\",\"2024-04-04\",\"2024-04-05\",\"2024-04-08\",\"2024-04-09\",\"2024-04-10\",\"2024-04-11\",\"2024-04-12\",\"2024-04-15\",\"2024-04-16\",\"2024-04-17\",\"2024-04-18\",\"2024-04-19\",\"2024-04-22\",\"2024-04-23\",\"2024-04-24\",\"2024-04-25\",\"2024-04-26\",\"2024-04-29\",\"2024-04-30\",\"2024-05-01\",\"2024-05-02\",\"2024-05-03\",\"2024-05-06\",\"2024-05-07\",\"2024-05-08\",\"2024-05-09\",\"2024-05-10\",\"2024-05-13\",\"2024-05-14\",\"2024-05-15\",\"2024-05-16\",\"2024-05-17\",\"2024-05-20\",\"2024-05-21\",\"2024-05-22\",\"2024-05-23\",\"2024-05-24\",\"2024-05-28\",\"2024-05-29\",\"2024-05-30\",\"2024-05-31\",\"2024-06-03\",\"2024-06-04\",\"2024-06-05\",\"2024-06-06\",\"2024-06-07\",\"2024-06-10\",\"2024-06-11\",\"2024-06-12\",\"2024-06-13\",\"2024-06-14\",\"2024-06-17\",\"2024-06-18\",\"2024-06-20\",\"2024-06-21\",\"2024-06-24\",\"2024-06-25\",\"2024-06-26\",\"2024-06-27\",\"2024-06-28\",\"2024-07-01\",\"2024-07-02\",\"2024-07-03\",\"2024-07-05\",\"2024-07-08\",\"2024-07-09\",\"2024-07-10\",\"2024-07-11\",\"2024-07-12\",\"2024-07-15\",\"2024-07-16\",\"2024-07-17\",\"2024-07-18\",\"2024-07-19\",\"2024-07-22\",\"2024-07-23\",\"2024-07-24\",\"2024-07-25\",\"2024-07-26\",\"2024-07-29\",\"2024-07-30\",\"2024-07-31\",\"2024-08-01\",\"2024-08-02\",\"2024-08-05\",\"2024-08-06\",\"2024-08-07\",\"2024-08-08\",\"2024-08-09\",\"2024-08-12\",\"2024-08-13\",\"2024-08-14\",\"2024-08-15\",\"2024-08-16\",\"2024-08-19\",\"2024-08-20\",\"2024-08-21\",\"2024-08-22\",\"2024-08-23\",\"2024-08-26\",\"2024-08-27\",\"2024-08-28\",\"2024-08-29\",\"2024-08-30\",\"2024-09-03\",\"2024-09-04\",\"2024-09-05\"],\"xaxis\":\"x\",\"y\":[47.05078887939453,46.2309684753418,45.56211471557617,45.1682014465332,44.86026382446289,45.475135803222656,45.57111740112305,43.89047622680664,43.956459045410156,43.51055908203125,42.22983932495117,41.00810241699219,41.60097122192383,42.21284103393555,41.90190887451172,42.45878601074219,43.07965087890625,43.48956298828125,44.77228546142578,43.5075569152832,44.03144454956055,44.678306579589844,45.752071380615234,45.26317596435547,45.788063049316406,46.795841217041016,46.934814453125,45.451133728027344,46.08500289916992,43.928466796875,42.18684768676758,42.09186935424805,41.378021240234375,42.96567916870117,43.653526306152344,41.769935607910156,40.31725311279297,40.491214752197266,41.152069091796875,40.77115249633789,42.31582260131836,43.496559143066406,44.9952392578125,45.74107360839844,45.94503402709961,46.56389617919922,46.939815521240234,48.32451248168945,48.60944747924805,49.645225524902344,48.87739562988281,49.469268798828125,49.28730773925781,50.39806365966797,49.93316650390625,48.70542907714844,47.7656364440918,48.23153305053711,47.81062316894531,48.12955856323242,46.75985336303711,46.754852294921875,45.5001220703125,46.55998992919922,45.49712371826172,46.589988708496094,47.49987030029297,46.6209831237793,47.65085220336914,48.0817985534668,48.34375762939453,48.883689880371094,50.07053756713867,49.597599029541016,48.10478973388672,48.983680725097656,48.82370376586914,49.272640228271484,49.410621643066406,49.51560974121094,49.51560974121094,48.16178512573242,47.562862396240234,47.9918098449707,49.09066390991211,52.246253967285156,53.13314437866211,54.342987060546875,54.81492614746094,54.702938079833984,56.374725341796875,56.04576873779297,57.09962844848633,59.48332214355469,59.64630126953125,59.86527633666992,61.35408020019531,61.609046936035156,61.02312469482422,62.456939697265625,62.76589584350586,61.51905822753906,63.01886749267578,66.1514663696289,69.32305908203125,68.21420288085938,70.08995056152344,69.63201141357422,72.12368774414062,72.23867797851562,72.11869812011719,73.89046478271484,72.64862060546875,72.60363006591797,69.44303894042969,67.46329498291016,78.52787017822266,78.80683135986328,79.08180236816406,78.69084167480469,77.6529769897461,79.10179138183594,82.26837921142578,85.22599792480469,85.95693969726562,88.69271087646484,92.66138458251953,87.52081298828125,85.76696014404297,91.90544891357422,90.88053894042969,87.93677520751953,87.82978057861328,88.44773864746094,89.39066314697266,90.36457824707031,91.427490234375,94.28125762939453,94.99419403076172,92.55339813232422,90.24258422851562,90.34857940673828,90.35557556152344,89.44465637207031,88.9566879272461,85.89794158935547,88.00077819824219,87.12584686279297,85.34698486328125,87.03185272216797,90.60855102539062,88.17875671386719,85.99393463134766,87.40782165527344,84.0280990600586,84.6640396118164,76.19374084472656,79.51146697998047,82.41622924804688,79.67045593261719,82.62521362304688,87.72779083251953,87.74979400634766,86.39490509033203,83.0341796875,85.80995178222656,88.78170776367188,92.13243103027344,90.54656219482422,90.40457916259766,88.73971557617188,89.87061309814453,90.3915786743164,91.34849548339844,94.62222290039062,94.35124969482422,92.47139739990234,94.772216796875,95.37816619873047,94.94219970703125,103.79048156738281,106.46025848388672,113.89164733886719,114.81556701660156,110.49092102050781,109.6240005493164,114.99055480957031,116.42742919921875,122.42994689941406,120.9880599975586,120.8780746459961,121.77999877929688,120.91000366210938,125.19999694824219,129.61000061035156,131.8800048828125,130.97999572753906,135.5800018310547,130.77999877929688,126.56999969482422,118.11000061035156,126.08999633789062,126.4000015258789,123.98999786376953,123.54000091552734,124.30000305175781,122.66999816894531,128.27999877929688,125.83000183105469,128.1999969482422,131.3800048828125,134.91000366210938,127.4000015258789,129.24000549316406,128.44000244140625,126.36000061035156,117.98999786376953,121.08999633789062,117.93000030517578,123.54000091552734,122.58999633789062,114.25,112.27999877929688,113.05999755859375,111.58999633789062,103.7300033569336,117.0199966430664,109.20999908447266,107.2699966430664,100.44999694824219,104.25,98.91000366210938,104.97000122070312,104.75,109.0199966430664,116.13999938964844,118.08000183105469,122.86000061035156,124.58000183105469,130.0,127.25,128.5,123.73999786376953,129.3699951171875,126.45999908447266,128.3000030517578,125.61000061035156,117.58999633789062,119.37000274658203,108.0,106.20999908447266,107.20999908447266],\"yaxis\":\"y\",\"type\":\"scatter\"}],                        {\"template\":{\"data\":{\"histogram2dcontour\":[{\"type\":\"histogram2dcontour\",\"colorbar\":{\"outlinewidth\":0,\"ticks\":\"\"},\"colorscale\":[[0.0,\"#0d0887\"],[0.1111111111111111,\"#46039f\"],[0.2222222222222222,\"#7201a8\"],[0.3333333333333333,\"#9c179e\"],[0.4444444444444444,\"#bd3786\"],[0.5555555555555556,\"#d8576b\"],[0.6666666666666666,\"#ed7953\"],[0.7777777777777778,\"#fb9f3a\"],[0.8888888888888888,\"#fdca26\"],[1.0,\"#f0f921\"]]}],\"choropleth\":[{\"type\":\"choropleth\",\"colorbar\":{\"outlinewidth\":0,\"ticks\":\"\"}}],\"histogram2d\":[{\"type\":\"histogram2d\",\"colorbar\":{\"outlinewidth\":0,\"ticks\":\"\"},\"colorscale\":[[0.0,\"#0d0887\"],[0.1111111111111111,\"#46039f\"],[0.2222222222222222,\"#7201a8\"],[0.3333333333333333,\"#9c179e\"],[0.4444444444444444,\"#bd3786\"],[0.5555555555555556,\"#d8576b\"],[0.6666666666666666,\"#ed7953\"],[0.7777777777777778,\"#fb9f3a\"],[0.8888888888888888,\"#fdca26\"],[1.0,\"#f0f921\"]]}],\"heatmap\":[{\"type\":\"heatmap\",\"colorbar\":{\"outlinewidth\":0,\"ticks\":\"\"},\"colorscale\":[[0.0,\"#0d0887\"],[0.1111111111111111,\"#46039f\"],[0.2222222222222222,\"#7201a8\"],[0.3333333333333333,\"#9c179e\"],[0.4444444444444444,\"#bd3786\"],[0.5555555555555556,\"#d8576b\"],[0.6666666666666666,\"#ed7953\"],[0.7777777777777778,\"#fb9f3a\"],[0.8888888888888888,\"#fdca26\"],[1.0,\"#f0f921\"]]}],\"heatmapgl\":[{\"type\":\"heatmapgl\",\"colorbar\":{\"outlinewidth\":0,\"ticks\":\"\"},\"colorscale\":[[0.0,\"#0d0887\"],[0.1111111111111111,\"#46039f\"],[0.2222222222222222,\"#7201a8\"],[0.3333333333333333,\"#9c179e\"],[0.4444444444444444,\"#bd3786\"],[0.5555555555555556,\"#d8576b\"],[0.6666666666666666,\"#ed7953\"],[0.7777777777777778,\"#fb9f3a\"],[0.8888888888888888,\"#fdca26\"],[1.0,\"#f0f921\"]]}],\"contourcarpet\":[{\"type\":\"contourcarpet\",\"colorbar\":{\"outlinewidth\":0,\"ticks\":\"\"}}],\"contour\":[{\"type\":\"contour\",\"colorbar\":{\"outlinewidth\":0,\"ticks\":\"\"},\"colorscale\":[[0.0,\"#0d0887\"],[0.1111111111111111,\"#46039f\"],[0.2222222222222222,\"#7201a8\"],[0.3333333333333333,\"#9c179e\"],[0.4444444444444444,\"#bd3786\"],[0.5555555555555556,\"#d8576b\"],[0.6666666666666666,\"#ed7953\"],[0.7777777777777778,\"#fb9f3a\"],[0.8888888888888888,\"#fdca26\"],[1.0,\"#f0f921\"]]}],\"surface\":[{\"type\":\"surface\",\"colorbar\":{\"outlinewidth\":0,\"ticks\":\"\"},\"colorscale\":[[0.0,\"#0d0887\"],[0.1111111111111111,\"#46039f\"],[0.2222222222222222,\"#7201a8\"],[0.3333333333333333,\"#9c179e\"],[0.4444444444444444,\"#bd3786\"],[0.5555555555555556,\"#d8576b\"],[0.6666666666666666,\"#ed7953\"],[0.7777777777777778,\"#fb9f3a\"],[0.8888888888888888,\"#fdca26\"],[1.0,\"#f0f921\"]]}],\"mesh3d\":[{\"type\":\"mesh3d\",\"colorbar\":{\"outlinewidth\":0,\"ticks\":\"\"}}],\"scatter\":[{\"fillpattern\":{\"fillmode\":\"overlay\",\"size\":10,\"solidity\":0.2},\"type\":\"scatter\"}],\"parcoords\":[{\"type\":\"parcoords\",\"line\":{\"colorbar\":{\"outlinewidth\":0,\"ticks\":\"\"}}}],\"scatterpolargl\":[{\"type\":\"scatterpolargl\",\"marker\":{\"colorbar\":{\"outlinewidth\":0,\"ticks\":\"\"}}}],\"bar\":[{\"error_x\":{\"color\":\"#2a3f5f\"},\"error_y\":{\"color\":\"#2a3f5f\"},\"marker\":{\"line\":{\"color\":\"#E5ECF6\",\"width\":0.5},\"pattern\":{\"fillmode\":\"overlay\",\"size\":10,\"solidity\":0.2}},\"type\":\"bar\"}],\"scattergeo\":[{\"type\":\"scattergeo\",\"marker\":{\"colorbar\":{\"outlinewidth\":0,\"ticks\":\"\"}}}],\"scatterpolar\":[{\"type\":\"scatterpolar\",\"marker\":{\"colorbar\":{\"outlinewidth\":0,\"ticks\":\"\"}}}],\"histogram\":[{\"marker\":{\"pattern\":{\"fillmode\":\"overlay\",\"size\":10,\"solidity\":0.2}},\"type\":\"histogram\"}],\"scattergl\":[{\"type\":\"scattergl\",\"marker\":{\"colorbar\":{\"outlinewidth\":0,\"ticks\":\"\"}}}],\"scatter3d\":[{\"type\":\"scatter3d\",\"line\":{\"colorbar\":{\"outlinewidth\":0,\"ticks\":\"\"}},\"marker\":{\"colorbar\":{\"outlinewidth\":0,\"ticks\":\"\"}}}],\"scattermapbox\":[{\"type\":\"scattermapbox\",\"marker\":{\"colorbar\":{\"outlinewidth\":0,\"ticks\":\"\"}}}],\"scatterternary\":[{\"type\":\"scatterternary\",\"marker\":{\"colorbar\":{\"outlinewidth\":0,\"ticks\":\"\"}}}],\"scattercarpet\":[{\"type\":\"scattercarpet\",\"marker\":{\"colorbar\":{\"outlinewidth\":0,\"ticks\":\"\"}}}],\"carpet\":[{\"aaxis\":{\"endlinecolor\":\"#2a3f5f\",\"gridcolor\":\"white\",\"linecolor\":\"white\",\"minorgridcolor\":\"white\",\"startlinecolor\":\"#2a3f5f\"},\"baxis\":{\"endlinecolor\":\"#2a3f5f\",\"gridcolor\":\"white\",\"linecolor\":\"white\",\"minorgridcolor\":\"white\",\"startlinecolor\":\"#2a3f5f\"},\"type\":\"carpet\"}],\"table\":[{\"cells\":{\"fill\":{\"color\":\"#EBF0F8\"},\"line\":{\"color\":\"white\"}},\"header\":{\"fill\":{\"color\":\"#C8D4E3\"},\"line\":{\"color\":\"white\"}},\"type\":\"table\"}],\"barpolar\":[{\"marker\":{\"line\":{\"color\":\"#E5ECF6\",\"width\":0.5},\"pattern\":{\"fillmode\":\"overlay\",\"size\":10,\"solidity\":0.2}},\"type\":\"barpolar\"}],\"pie\":[{\"automargin\":true,\"type\":\"pie\"}]},\"layout\":{\"autotypenumbers\":\"strict\",\"colorway\":[\"#636efa\",\"#EF553B\",\"#00cc96\",\"#ab63fa\",\"#FFA15A\",\"#19d3f3\",\"#FF6692\",\"#B6E880\",\"#FF97FF\",\"#FECB52\"],\"font\":{\"color\":\"#2a3f5f\"},\"hovermode\":\"closest\",\"hoverlabel\":{\"align\":\"left\"},\"paper_bgcolor\":\"white\",\"plot_bgcolor\":\"#E5ECF6\",\"polar\":{\"bgcolor\":\"#E5ECF6\",\"angularaxis\":{\"gridcolor\":\"white\",\"linecolor\":\"white\",\"ticks\":\"\"},\"radialaxis\":{\"gridcolor\":\"white\",\"linecolor\":\"white\",\"ticks\":\"\"}},\"ternary\":{\"bgcolor\":\"#E5ECF6\",\"aaxis\":{\"gridcolor\":\"white\",\"linecolor\":\"white\",\"ticks\":\"\"},\"baxis\":{\"gridcolor\":\"white\",\"linecolor\":\"white\",\"ticks\":\"\"},\"caxis\":{\"gridcolor\":\"white\",\"linecolor\":\"white\",\"ticks\":\"\"}},\"coloraxis\":{\"colorbar\":{\"outlinewidth\":0,\"ticks\":\"\"}},\"colorscale\":{\"sequential\":[[0.0,\"#0d0887\"],[0.1111111111111111,\"#46039f\"],[0.2222222222222222,\"#7201a8\"],[0.3333333333333333,\"#9c179e\"],[0.4444444444444444,\"#bd3786\"],[0.5555555555555556,\"#d8576b\"],[0.6666666666666666,\"#ed7953\"],[0.7777777777777778,\"#fb9f3a\"],[0.8888888888888888,\"#fdca26\"],[1.0,\"#f0f921\"]],\"sequentialminus\":[[0.0,\"#0d0887\"],[0.1111111111111111,\"#46039f\"],[0.2222222222222222,\"#7201a8\"],[0.3333333333333333,\"#9c179e\"],[0.4444444444444444,\"#bd3786\"],[0.5555555555555556,\"#d8576b\"],[0.6666666666666666,\"#ed7953\"],[0.7777777777777778,\"#fb9f3a\"],[0.8888888888888888,\"#fdca26\"],[1.0,\"#f0f921\"]],\"diverging\":[[0,\"#8e0152\"],[0.1,\"#c51b7d\"],[0.2,\"#de77ae\"],[0.3,\"#f1b6da\"],[0.4,\"#fde0ef\"],[0.5,\"#f7f7f7\"],[0.6,\"#e6f5d0\"],[0.7,\"#b8e186\"],[0.8,\"#7fbc41\"],[0.9,\"#4d9221\"],[1,\"#276419\"]]},\"xaxis\":{\"gridcolor\":\"white\",\"linecolor\":\"white\",\"ticks\":\"\",\"title\":{\"standoff\":15},\"zerolinecolor\":\"white\",\"automargin\":true,\"zerolinewidth\":2},\"yaxis\":{\"gridcolor\":\"white\",\"linecolor\":\"white\",\"ticks\":\"\",\"title\":{\"standoff\":15},\"zerolinecolor\":\"white\",\"automargin\":true,\"zerolinewidth\":2},\"scene\":{\"xaxis\":{\"backgroundcolor\":\"#E5ECF6\",\"gridcolor\":\"white\",\"linecolor\":\"white\",\"showbackground\":true,\"ticks\":\"\",\"zerolinecolor\":\"white\",\"gridwidth\":2},\"yaxis\":{\"backgroundcolor\":\"#E5ECF6\",\"gridcolor\":\"white\",\"linecolor\":\"white\",\"showbackground\":true,\"ticks\":\"\",\"zerolinecolor\":\"white\",\"gridwidth\":2},\"zaxis\":{\"backgroundcolor\":\"#E5ECF6\",\"gridcolor\":\"white\",\"linecolor\":\"white\",\"showbackground\":true,\"ticks\":\"\",\"zerolinecolor\":\"white\",\"gridwidth\":2}},\"shapedefaults\":{\"line\":{\"color\":\"#2a3f5f\"}},\"annotationdefaults\":{\"arrowcolor\":\"#2a3f5f\",\"arrowhead\":0,\"arrowwidth\":1},\"geo\":{\"bgcolor\":\"white\",\"landcolor\":\"#E5ECF6\",\"subunitcolor\":\"white\",\"showland\":true,\"showlakes\":true,\"lakecolor\":\"white\"},\"title\":{\"x\":0.05},\"mapbox\":{\"style\":\"light\"}}},\"xaxis\":{\"anchor\":\"y\",\"domain\":[0.0,1.0],\"title\":{\"text\":\"Date\"}},\"yaxis\":{\"anchor\":\"x\",\"domain\":[0.0,1.0],\"title\":{\"text\":\"Profit\"}},\"legend\":{\"tracegroupgap\":0},\"title\":{\"text\":\"Price of NVDA Stock\"}},                        {\"responsive\": true}                    ).then(function(){\n",
       "                            \n",
       "var gd = document.getElementById('54043a9f-cfc7-4588-8b6c-cd13381125e5');\n",
       "var x = new MutationObserver(function (mutations, observer) {{\n",
       "        var display = window.getComputedStyle(gd).display;\n",
       "        if (!display || display === 'none') {{\n",
       "            console.log([gd, 'removed!']);\n",
       "            Plotly.purge(gd);\n",
       "            observer.disconnect();\n",
       "        }}\n",
       "}});\n",
       "\n",
       "// Listen for the removal of the full notebook cells\n",
       "var notebookContainer = gd.closest('#notebook-container');\n",
       "if (notebookContainer) {{\n",
       "    x.observe(notebookContainer, {childList: true});\n",
       "}}\n",
       "\n",
       "// Listen for the clearing of the current output cell\n",
       "var outputEl = gd.closest('.output');\n",
       "if (outputEl) {{\n",
       "    x.observe(outputEl, {childList: true});\n",
       "}}\n",
       "\n",
       "                        })                };                });            </script>        </div>"
      ]
     },
     "metadata": {},
     "output_type": "display_data"
    }
   ],
   "source": [
    "import plotly.express as px\n",
    "import plotly.offline as pyo\n",
    "import plotly.io as pio\n",
    "\n",
    "pyo.init_notebook_mode(connected=True)\n",
    "\n",
    "fig = px.line(removed_index, x=\"Date\", y=\"Profit\", title=f'Price of {symbol} Stock')\n",
    "fig.show()"
   ]
  },
  {
   "cell_type": "code",
   "execution_count": 19,
   "id": "bf86cd65-4afe-421a-ab1e-e8f99181f2ab",
   "metadata": {},
   "outputs": [],
   "source": [
    "pio.write_image(fig, 'stock_price.png')"
   ]
  },
  {
   "cell_type": "code",
   "execution_count": 23,
   "id": "36895e4b-cf39-40f2-89d1-0f8133557de8",
   "metadata": {},
   "outputs": [],
   "source": [
    "news = stock_details.news"
   ]
  },
  {
   "cell_type": "code",
   "execution_count": 24,
   "id": "17a89064-3842-4442-a0f0-c3c79761cb6b",
   "metadata": {},
   "outputs": [
    {
     "data": {
      "text/plain": [
       "[{'uuid': '649ffdab-c88a-39ab-a1da-52702b54aee4',\n",
       "  'title': 'Nvidia’s AI chips are cheaper to rent in China than US',\n",
       "  'publisher': 'Financial Times',\n",
       "  'link': 'https://finance.yahoo.com/news/nvidia-ai-chips-cheaper-rent-040020510.html',\n",
       "  'providerPublishTime': 1725595220,\n",
       "  'type': 'STORY',\n",
       "  'relatedTickers': ['NVDA']},\n",
       " {'uuid': 'd0c70b89-12a9-3a7d-a88c-53993270d64d',\n",
       "  'title': 'Dow Jones Futures: Market Breaking Support With Jobs Report Due; AI Giant Broadcom Tumbles',\n",
       "  'publisher': \"Investor's Business Daily\",\n",
       "  'link': 'https://finance.yahoo.com/m/d0c70b89-12a9-3a7d-a88c-53993270d64d/dow-jones-futures%3A-market.html',\n",
       "  'providerPublishTime': 1725589814,\n",
       "  'type': 'STORY',\n",
       "  'thumbnail': {'resolutions': [{'url': 'https://s.yimg.com/uu/api/res/1.2/1M5nFQE2K7ytEiHshYiI_w--~B/aD01NjU7dz0xMDAwO2FwcGlkPXl0YWNoeW9u/https://media.zenfs.com/en/ibd.com/912bce6dcb055a351bef5b1212da1763',\n",
       "     'width': 1000,\n",
       "     'height': 565,\n",
       "     'tag': 'original'},\n",
       "    {'url': 'https://s.yimg.com/uu/api/res/1.2/WwelI9xc70zDSVcGkqdmzA--~B/Zmk9ZmlsbDtoPTE0MDtweW9mZj0wO3c9MTQwO2FwcGlkPXl0YWNoeW9u/https://media.zenfs.com/en/ibd.com/912bce6dcb055a351bef5b1212da1763',\n",
       "     'width': 140,\n",
       "     'height': 140,\n",
       "     'tag': '140x140'}]},\n",
       "  'relatedTickers': ['TSLA', 'AVGO', '^GSPC', '^DJI', 'COMP', 'NVDA', 'GWRE']},\n",
       " {'uuid': '9b7145d5-1fa9-33d3-8123-55e69be37509',\n",
       "  'title': 'As Nvidia Stock Stumbles, Watch These 3 Hot AI-Adjacent Stocks Instead',\n",
       "  'publisher': \"Investor's Business Daily\",\n",
       "  'link': 'https://finance.yahoo.com/m/9b7145d5-1fa9-33d3-8123-55e69be37509/as-nvidia-stock-stumbles%2C.html',\n",
       "  'providerPublishTime': 1725575507,\n",
       "  'type': 'STORY',\n",
       "  'thumbnail': {'resolutions': [{'url': 'https://s.yimg.com/uu/api/res/1.2/5_VjaOYOKAACeVvlddOK5g--~B/aD01MTE7dz0xMDAwO2FwcGlkPXl0YWNoeW9u/https://media.zenfs.com/en/ibd.com/f91418204e28026aa1477652c9bf1e3d',\n",
       "     'width': 1000,\n",
       "     'height': 511,\n",
       "     'tag': 'original'},\n",
       "    {'url': 'https://s.yimg.com/uu/api/res/1.2/FtVvL3aeWMk32GVmQ2BD6Q--~B/Zmk9ZmlsbDtoPTE0MDtweW9mZj0wO3c9MTQwO2FwcGlkPXl0YWNoeW9u/https://media.zenfs.com/en/ibd.com/f91418204e28026aa1477652c9bf1e3d',\n",
       "     'width': 140,\n",
       "     'height': 140,\n",
       "     'tag': '140x140'}]},\n",
       "  'relatedTickers': ['NVDA', 'PLTR', 'TSLA']},\n",
       " {'uuid': 'd3361fc5-8a3f-38ff-a343-604e656040f4',\n",
       "  'title': 'NVIDIA Corporation (NVDA): Trending AI Stock on Latest Analyst Ratings and News',\n",
       "  'publisher': 'Insider Monkey',\n",
       "  'link': 'https://finance.yahoo.com/news/nvidia-corporation-nvda-trending-ai-221020321.html',\n",
       "  'providerPublishTime': 1725574220,\n",
       "  'type': 'STORY',\n",
       "  'thumbnail': {'resolutions': [{'url': 'https://s.yimg.com/uu/api/res/1.2/TTeuFy5Yw2gv7xivFvRsTg--~B/aD04MTY7dz0xNDU2O2FwcGlkPXl0YWNoeW9u/https://media.zenfs.com/en/insidermonkey.com/aa94e059977d3251b8b0630718e013fc',\n",
       "     'width': 1456,\n",
       "     'height': 816,\n",
       "     'tag': 'original'},\n",
       "    {'url': 'https://s.yimg.com/uu/api/res/1.2/TZeknJ_fhN5h4AGoB8ZDOg--~B/Zmk9ZmlsbDtoPTE0MDtweW9mZj0wO3c9MTQwO2FwcGlkPXl0YWNoeW9u/https://media.zenfs.com/en/insidermonkey.com/aa94e059977d3251b8b0630718e013fc',\n",
       "     'width': 140,\n",
       "     'height': 140,\n",
       "     'tag': '140x140'}]},\n",
       "  'relatedTickers': ['NVDA']},\n",
       " {'uuid': 'c9216c2c-7fac-3a2a-bff1-dee7fbb6382a',\n",
       "  'title': \"Nvidia, Microsoft Accused in New Lawsuit of Infringing on Texas Startup's DPU Patents\",\n",
       "  'publisher': 'MT Newswires',\n",
       "  'link': 'https://finance.yahoo.com/news/nvidia-microsoft-accused-lawsuit-infringing-213017287.html',\n",
       "  'providerPublishTime': 1725571817,\n",
       "  'type': 'STORY',\n",
       "  'relatedTickers': ['NVDA', 'MSFT']},\n",
       " {'uuid': 'd3ec9b17-cc3f-32f7-84e5-ede5495d964c',\n",
       "  'title': 'Indexes Mixed With Jobs Report On Tap; Tesla Soars As Two Tech Firms Diverge On Earnings (Live Coverage)',\n",
       "  'publisher': \"Investor's Business Daily\",\n",
       "  'link': 'https://finance.yahoo.com/m/d3ec9b17-cc3f-32f7-84e5-ede5495d964c/indexes-mixed-with-jobs.html',\n",
       "  'providerPublishTime': 1725568847,\n",
       "  'type': 'STORY',\n",
       "  'thumbnail': {'resolutions': [{'url': 'https://s.yimg.com/uu/api/res/1.2/LbSQDgtTkyctqLBXXIL6Tw--~B/aD01NjM7dz0xMDAwO2FwcGlkPXl0YWNoeW9u/https://media.zenfs.com/en/ibd.com/5d75977df71ec357c82ec1dc8e49ebf1',\n",
       "     'width': 1000,\n",
       "     'height': 563,\n",
       "     'tag': 'original'},\n",
       "    {'url': 'https://s.yimg.com/uu/api/res/1.2/Pqd9NginAjUOLzATmNOzXQ--~B/Zmk9ZmlsbDtoPTE0MDtweW9mZj0wO3c9MTQwO2FwcGlkPXl0YWNoeW9u/https://media.zenfs.com/en/ibd.com/5d75977df71ec357c82ec1dc8e49ebf1',\n",
       "     'width': 140,\n",
       "     'height': 140,\n",
       "     'tag': '140x140'}]},\n",
       "  'relatedTickers': ['NVDA']},\n",
       " {'uuid': '54ee2f65-5a50-3985-a58f-b864b08ed8fc',\n",
       "  'title': 'These Stocks Moved the Most Today: C3.ai, Tesla, U.S. Steel, Nvidia, NIO, Frontier Communications, HPE, ChargePoint, and More',\n",
       "  'publisher': 'Barrons.com',\n",
       "  'link': 'https://finance.yahoo.com/m/54ee2f65-5a50-3985-a58f-b864b08ed8fc/these-stocks-moved-the-most.html',\n",
       "  'providerPublishTime': 1725567720,\n",
       "  'type': 'STORY',\n",
       "  'thumbnail': {'resolutions': [{'url': 'https://s.yimg.com/uu/api/res/1.2/_rne5Ll43VJcJ3w.5wXeyg--~B/aD02NDA7dz0xMjgwO2FwcGlkPXl0YWNoeW9u/https://media.zenfs.com/en/Barrons.com/f3b87e0e4ac5dec0fc7150b8c6bc41b7',\n",
       "     'width': 1280,\n",
       "     'height': 640,\n",
       "     'tag': 'original'},\n",
       "    {'url': 'https://s.yimg.com/uu/api/res/1.2/nX7VJHvB4s6OMVVhWaNWeA--~B/Zmk9ZmlsbDtoPTE0MDtweW9mZj0wO3c9MTQwO2FwcGlkPXl0YWNoeW9u/https://media.zenfs.com/en/Barrons.com/f3b87e0e4ac5dec0fc7150b8c6bc41b7',\n",
       "     'width': 140,\n",
       "     'height': 140,\n",
       "     'tag': '140x140'}]},\n",
       "  'relatedTickers': ['NVDA', 'AVGO', 'CHPT', 'X', 'MODG', 'AI', 'TSLA']},\n",
       " {'uuid': 'f346efa4-b775-3e6f-9933-d166fa876314',\n",
       "  'title': \"Bank of America: Nvidia's Recent Stock Slide Could Offer 'Enhanced Buy Opportunity'\",\n",
       "  'publisher': 'Investopedia',\n",
       "  'link': 'https://finance.yahoo.com/m/f346efa4-b775-3e6f-9933-d166fa876314/bank-of-america%3A-nvidia%27s.html',\n",
       "  'providerPublishTime': 1725567694,\n",
       "  'type': 'STORY',\n",
       "  'thumbnail': {'resolutions': [{'url': 'https://s.yimg.com/uu/api/res/1.2/GU8mEGkcvU0.8T7e_L216Q--~B/aD0zMDIwO3c9NDUxNTthcHBpZD15dGFjaHlvbg--/https://media.zenfs.com/en/investopedia_245/069e8952401589a16c4aa253400dea55',\n",
       "     'width': 4515,\n",
       "     'height': 3020,\n",
       "     'tag': 'original'},\n",
       "    {'url': 'https://s.yimg.com/uu/api/res/1.2/mkVGgDWapNl8MEzvkhOFTA--~B/Zmk9ZmlsbDtoPTE0MDtweW9mZj0wO3c9MTQwO2FwcGlkPXl0YWNoeW9u/https://media.zenfs.com/en/investopedia_245/069e8952401589a16c4aa253400dea55',\n",
       "     'width': 140,\n",
       "     'height': 140,\n",
       "     'tag': '140x140'}]},\n",
       "  'relatedTickers': ['NVDA']}]"
      ]
     },
     "execution_count": 24,
     "metadata": {},
     "output_type": "execute_result"
    }
   ],
   "source": [
    "news"
   ]
  },
  {
   "cell_type": "code",
   "execution_count": null,
   "id": "67d150ba-a177-43af-809f-34100ea7a70f",
   "metadata": {},
   "outputs": [],
   "source": []
  }
 ],
 "metadata": {
  "kernelspec": {
   "display_name": "Python 3 (ipykernel)",
   "language": "python",
   "name": "python3"
  },
  "language_info": {
   "codemirror_mode": {
    "name": "ipython",
    "version": 3
   },
   "file_extension": ".py",
   "mimetype": "text/x-python",
   "name": "python",
   "nbconvert_exporter": "python",
   "pygments_lexer": "ipython3",
   "version": "3.12.4"
  }
 },
 "nbformat": 4,
 "nbformat_minor": 5
}
